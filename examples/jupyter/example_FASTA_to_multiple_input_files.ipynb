{
 "cells": [
  {
   "cell_type": "markdown",
   "metadata": {},
   "source": [
    "# Building multiple AlphaFold3 input files from a FASTA file\n",
    "\n",
    "This notebook demonstrates how to build multiple JSON input files for AlphaFold3 from a FASTA file.\n",
    "\n",
    "**IMPORTANT**: To run this notebook, please install the feature dependencies, using uv: `uv sync --group examples`."
   ]
  },
  {
   "metadata": {},
   "cell_type": "code",
   "outputs": [],
   "execution_count": null,
   "source": [
    "from af3cli import InputBuilder\n",
    "from af3cli.sequence import fasta2seq"
   ]
  },
  {
   "cell_type": "code",
   "execution_count": 2,
   "metadata": {},
   "outputs": [],
   "source": [
    "# Define the job name and FASTA file path\n",
    "JOB_NAME_PREFIX = \"demo_fasta_to_multi_input_files_\"\n",
    "FASTA_FILE = \"../data/demo_seq.fasta\""
   ]
  },
  {
   "metadata": {},
   "cell_type": "code",
   "outputs": [],
   "execution_count": null,
   "source": [
    "# Read FASTA file and generate sequences as generator object\n",
    "sequences = fasta2seq(filename=FASTA_FILE)"
   ]
  },
  {
   "cell_type": "code",
   "execution_count": 3,
   "metadata": {},
   "outputs": [],
   "source": [
    "# Process each sequence from the FASTA file individually and save it to a separate JSON file.\n",
    "# Ensures that all sequences, even in cases of multiple entries, are handled one by one.\n",
    "for seq in sequences:\n",
    "    builder = InputBuilder()\n",
    "    builder.set_name(f\"{JOB_NAME_PREFIX}_{seq.name}\")\n",
    "    builder.add_sequence(seq)\n",
    "    input_file = builder.build()\n",
    "    input_file.write(f\"{JOB_NAME_PREFIX}_{seq.name}.json\")"
   ]
  }
 ],
 "metadata": {
  "kernelspec": {
   "display_name": ".venv",
   "language": "python",
   "name": "python3"
  },
  "language_info": {
   "codemirror_mode": {
    "name": "ipython",
    "version": 3
   },
   "file_extension": ".py",
   "mimetype": "text/x-python",
   "name": "python",
   "nbconvert_exporter": "python",
   "pygments_lexer": "ipython3",
   "version": "3.11.11"
  }
 },
 "nbformat": 4,
 "nbformat_minor": 2
}
