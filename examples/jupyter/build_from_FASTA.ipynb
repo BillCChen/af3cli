{
 "cells": [
  {
   "cell_type": "markdown",
   "metadata": {},
   "source": [
    "# Building an alphafold3 input file from a FASTA file\n",
    "\n",
    "This notebook demonstrates how to build an input file for AlphaFold3 from a FASTA file. The input file is a JSON file that contains the sequence of the protein to predict. The sequence is read from a FASTA file and the JSON file is created.\n",
    "\n",
    "**IMPORTANT**: To run this notebook, please install the feature dependencies, using uv: `uv sync --features`"
   ]
  },
  {
   "cell_type": "code",
   "execution_count": 4,
   "metadata": {},
   "outputs": [],
   "source": [
    "from af3cli import InputBuilder\n",
    "from af3cli.sequence import fasta2seq\n",
    "\n",
    "job_name = \"demo_fasta2input\"\n",
    "\n",
    "fasta_filename = \"../data/demo_seq.fasta\""
   ]
  },
  {
   "cell_type": "code",
   "execution_count": null,
   "metadata": {},
   "outputs": [],
   "source": [
    "builder = InputBuilder()\n",
    "builder.set_name(job_name)\n",
    "builder.set_version(2)\n",
    "# builder.set_dialect(\"alphafold3\") # default"
   ]
  },
  {
   "cell_type": "markdown",
   "metadata": {},
   "source": [
    "## Reading a FASTA file\n",
    "\n",
    "All the sequences of a FASTA file are read and added as mulitmers. In case it is desired to predict the structure of a single protein, the sequence of the protein should be the only one in the FASTA file or separated input files should be generated."
   ]
  },
  {
   "cell_type": "code",
   "execution_count": 6,
   "metadata": {},
   "outputs": [],
   "source": [
    "sequences = fasta2seq(filename=fasta_filename)\n",
    "\n",
    "# in case the FASTA file contains multiple sequences, they are all added to the input and handled as a multimer \n",
    "for seq in sequences:\n",
    "    builder.add_sequence(seq)"
   ]
  },
  {
   "cell_type": "markdown",
   "metadata": {},
   "source": [
    "## Building and writing the alphfold import JSON file"
   ]
  },
  {
   "cell_type": "code",
   "execution_count": 7,
   "metadata": {},
   "outputs": [],
   "source": [
    "input_file = builder.build()\n",
    "input_file.write(f\"{job_name}.json\")"
   ]
  }
 ],
 "metadata": {
  "kernelspec": {
   "display_name": ".venv",
   "language": "python",
   "name": "python3"
  },
  "language_info": {
   "codemirror_mode": {
    "name": "ipython",
    "version": 3
   },
   "file_extension": ".py",
   "mimetype": "text/x-python",
   "name": "python",
   "nbconvert_exporter": "python",
   "pygments_lexer": "ipython3",
   "version": "3.11.11"
  }
 },
 "nbformat": 4,
 "nbformat_minor": 2
}
