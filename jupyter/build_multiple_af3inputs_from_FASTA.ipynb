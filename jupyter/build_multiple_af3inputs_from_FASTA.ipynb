{
 "cells": [
  {
   "cell_type": "markdown",
   "metadata": {},
   "source": [
    "# Building multiple alphafold3 input files from a single FASTA file\n",
    "\n",
    "This notebook demonstrates how to build multiple input files for AlphaFold3 from a single FASTA file. This is useful when you have a large number of sequences that you want to predict structures for, but you don't want to run AlphaFold on all of them at once."
   ]
  },
  {
   "cell_type": "code",
   "execution_count": 2,
   "metadata": {},
   "outputs": [],
   "source": [
    "from af3cli import InputBuilder\n",
    "from af3cli.sequence import fasta2seq\n",
    "\n",
    "job_name_prefix = 'MultiDemo_'\n",
    "\n",
    "fasta_filename = \"demo_seq.fasta\""
   ]
  },
  {
   "cell_type": "markdown",
   "metadata": {},
   "source": [
    "## Reading a FASTA file\n",
    "\n",
    "All the sequences of a FASTA file are read and added as mulitmers. In case it is desired to predict the structure of a single protein, the sequence of the protein should be the only one in the FASTA file or separated input files should be generated."
   ]
  },
  {
   "cell_type": "code",
   "execution_count": 3,
   "metadata": {},
   "outputs": [],
   "source": [
    "sequences = fasta2seq(fasta_filename)\n",
    "\n",
    "for seq in sequences:\n",
    "    builder = InputBuilder()\n",
    "    builder.set_name(f\"{job_name_prefix}_{seq.name}\")\n",
    "    builder.set_version(2)\n",
    "    builder.add_sequence(seq)\n",
    "    input_file = builder.build()\n",
    "    input_file.write(f\"{job_name_prefix}_{seq.name}.json\")"
   ]
  },
  {
   "cell_type": "code",
   "execution_count": null,
   "metadata": {},
   "outputs": [],
   "source": []
  }
 ],
 "metadata": {
  "kernelspec": {
   "display_name": ".venv",
   "language": "python",
   "name": "python3"
  },
  "language_info": {
   "codemirror_mode": {
    "name": "ipython",
    "version": 3
   },
   "file_extension": ".py",
   "mimetype": "text/x-python",
   "name": "python",
   "nbconvert_exporter": "python",
   "pygments_lexer": "ipython3",
   "version": "3.11.11"
  }
 },
 "nbformat": 4,
 "nbformat_minor": 2
}
